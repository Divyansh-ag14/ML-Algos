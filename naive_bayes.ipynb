{
 "cells": [
  {
   "cell_type": "markdown",
   "metadata": {},
   "source": [
    "# (Bayesian Classification)\n",
    "\n",
    "By Divyansh Agarwal"
   ]
  },
  {
   "cell_type": "markdown",
   "metadata": {},
   "source": [
    "IMPORTING LIBRARIES"
   ]
  },
  {
   "cell_type": "code",
   "execution_count": 1,
   "metadata": {},
   "outputs": [],
   "source": [
    "import numpy as np\n",
    "import pandas as pd\n",
    "import math"
   ]
  },
  {
   "cell_type": "markdown",
   "metadata": {},
   "source": [
    "LOADING DATASET AND CHECKING HEAD"
   ]
  },
  {
   "cell_type": "code",
   "execution_count": 2,
   "metadata": {},
   "outputs": [
    {
     "data": {
      "text/html": [
       "<div>\n",
       "<style scoped>\n",
       "    .dataframe tbody tr th:only-of-type {\n",
       "        vertical-align: middle;\n",
       "    }\n",
       "\n",
       "    .dataframe tbody tr th {\n",
       "        vertical-align: top;\n",
       "    }\n",
       "\n",
       "    .dataframe thead th {\n",
       "        text-align: right;\n",
       "    }\n",
       "</style>\n",
       "<table border=\"1\" class=\"dataframe\">\n",
       "  <thead>\n",
       "    <tr style=\"text-align: right;\">\n",
       "      <th></th>\n",
       "      <th>RID</th>\n",
       "      <th>age</th>\n",
       "      <th>income</th>\n",
       "      <th>student</th>\n",
       "      <th>credit_rating</th>\n",
       "      <th>Class:buys Computer</th>\n",
       "    </tr>\n",
       "  </thead>\n",
       "  <tbody>\n",
       "    <tr>\n",
       "      <th>0</th>\n",
       "      <td>1</td>\n",
       "      <td>Youth</td>\n",
       "      <td>high</td>\n",
       "      <td>no</td>\n",
       "      <td>fair</td>\n",
       "      <td>no</td>\n",
       "    </tr>\n",
       "    <tr>\n",
       "      <th>1</th>\n",
       "      <td>2</td>\n",
       "      <td>Youth</td>\n",
       "      <td>high</td>\n",
       "      <td>no</td>\n",
       "      <td>excellent</td>\n",
       "      <td>no</td>\n",
       "    </tr>\n",
       "    <tr>\n",
       "      <th>2</th>\n",
       "      <td>3</td>\n",
       "      <td>middle_aged</td>\n",
       "      <td>high</td>\n",
       "      <td>no</td>\n",
       "      <td>fair</td>\n",
       "      <td>yes</td>\n",
       "    </tr>\n",
       "    <tr>\n",
       "      <th>3</th>\n",
       "      <td>4</td>\n",
       "      <td>senior</td>\n",
       "      <td>medium</td>\n",
       "      <td>no</td>\n",
       "      <td>fair</td>\n",
       "      <td>yes</td>\n",
       "    </tr>\n",
       "    <tr>\n",
       "      <th>4</th>\n",
       "      <td>5</td>\n",
       "      <td>senior</td>\n",
       "      <td>low</td>\n",
       "      <td>yes</td>\n",
       "      <td>fair</td>\n",
       "      <td>yes</td>\n",
       "    </tr>\n",
       "    <tr>\n",
       "      <th>5</th>\n",
       "      <td>6</td>\n",
       "      <td>senior</td>\n",
       "      <td>low</td>\n",
       "      <td>yes</td>\n",
       "      <td>excellent</td>\n",
       "      <td>no</td>\n",
       "    </tr>\n",
       "    <tr>\n",
       "      <th>6</th>\n",
       "      <td>7</td>\n",
       "      <td>middle_aged</td>\n",
       "      <td>low</td>\n",
       "      <td>yes</td>\n",
       "      <td>excellent</td>\n",
       "      <td>yes</td>\n",
       "    </tr>\n",
       "    <tr>\n",
       "      <th>7</th>\n",
       "      <td>8</td>\n",
       "      <td>Youth</td>\n",
       "      <td>medium</td>\n",
       "      <td>no</td>\n",
       "      <td>fair</td>\n",
       "      <td>no</td>\n",
       "    </tr>\n",
       "    <tr>\n",
       "      <th>8</th>\n",
       "      <td>9</td>\n",
       "      <td>Youth</td>\n",
       "      <td>low</td>\n",
       "      <td>yes</td>\n",
       "      <td>fair</td>\n",
       "      <td>yes</td>\n",
       "    </tr>\n",
       "    <tr>\n",
       "      <th>9</th>\n",
       "      <td>10</td>\n",
       "      <td>senior</td>\n",
       "      <td>medium</td>\n",
       "      <td>yes</td>\n",
       "      <td>fair</td>\n",
       "      <td>yes</td>\n",
       "    </tr>\n",
       "    <tr>\n",
       "      <th>10</th>\n",
       "      <td>11</td>\n",
       "      <td>Youth</td>\n",
       "      <td>medium</td>\n",
       "      <td>yes</td>\n",
       "      <td>excellent</td>\n",
       "      <td>yes</td>\n",
       "    </tr>\n",
       "    <tr>\n",
       "      <th>11</th>\n",
       "      <td>12</td>\n",
       "      <td>middle_aged</td>\n",
       "      <td>medium</td>\n",
       "      <td>no</td>\n",
       "      <td>excellent</td>\n",
       "      <td>yes</td>\n",
       "    </tr>\n",
       "    <tr>\n",
       "      <th>12</th>\n",
       "      <td>13</td>\n",
       "      <td>middle_aged</td>\n",
       "      <td>high</td>\n",
       "      <td>yes</td>\n",
       "      <td>fair</td>\n",
       "      <td>yes</td>\n",
       "    </tr>\n",
       "    <tr>\n",
       "      <th>13</th>\n",
       "      <td>14</td>\n",
       "      <td>senior</td>\n",
       "      <td>medium</td>\n",
       "      <td>no</td>\n",
       "      <td>excellent</td>\n",
       "      <td>no</td>\n",
       "    </tr>\n",
       "  </tbody>\n",
       "</table>\n",
       "</div>"
      ],
      "text/plain": [
       "    RID         age   income student credit_rating Class:buys Computer\n",
       "0     1        Youth    high      no          fair                  no\n",
       "1     2        Youth    high      no     excellent                  no\n",
       "2     3  middle_aged    high      no          fair                 yes\n",
       "3     4       senior  medium      no          fair                 yes\n",
       "4     5       senior     low     yes          fair                 yes\n",
       "5     6       senior     low     yes     excellent                  no\n",
       "6     7  middle_aged     low     yes     excellent                 yes\n",
       "7     8        Youth  medium      no          fair                  no\n",
       "8     9        Youth     low     yes          fair                 yes\n",
       "9    10       senior  medium     yes          fair                 yes\n",
       "10   11        Youth  medium     yes     excellent                 yes\n",
       "11   12  middle_aged  medium      no     excellent                 yes\n",
       "12   13  middle_aged    high     yes          fair                 yes\n",
       "13   14       senior  medium      no     excellent                  no"
      ]
     },
     "execution_count": 2,
     "metadata": {},
     "output_type": "execute_result"
    }
   ],
   "source": [
    "df=pd.read_csv(\"income.csv\")\n",
    "df"
   ]
  },
  {
   "cell_type": "markdown",
   "metadata": {},
   "source": [
    "CHECKING COLUMNS AND ANALYZING SHAPE"
   ]
  },
  {
   "cell_type": "code",
   "execution_count": 3,
   "metadata": {},
   "outputs": [
    {
     "name": "stdout",
     "output_type": "stream",
     "text": [
      "columns : Index(['RID', 'age ', 'income', 'student', 'credit_rating',\n",
      "       'Class:buys Computer'],\n",
      "      dtype='object')\n",
      "\n",
      "shape : (14, 6)\n"
     ]
    }
   ],
   "source": [
    "print(\"columns :\",df.columns)\n",
    "print(\"\")\n",
    "print(\"shape :\",df.shape)"
   ]
  },
  {
   "cell_type": "markdown",
   "metadata": {},
   "source": [
    "# From Scratch"
   ]
  },
  {
   "cell_type": "markdown",
   "metadata": {},
   "source": [
    "CALCULATING TOTAL AMOUNT OF (YES AND NO) INSTANCES AND THEIR PROBABILITIES FROM THE ENTIRE TUPLE"
   ]
  },
  {
   "cell_type": "code",
   "execution_count": 4,
   "metadata": {},
   "outputs": [
    {
     "name": "stdout",
     "output_type": "stream",
     "text": [
      "Instance : Count : Probability\n",
      "   Yes       9     0.6428571428571429\n",
      "--------------------------------------\n",
      "   No        5     0.35714285714285715\n"
     ]
    }
   ],
   "source": [
    "sum_y= sum(df[\"Class:buys Computer\"]== \"yes\")\n",
    "sum_n= sum(df[\"Class:buys Computer\"]== \"no\")\n",
    "r=14\n",
    "\n",
    "p_y = sum_y/r\n",
    "p_n = sum_n/r\n",
    "\n",
    "print(\"Instance : Count : Probability\")\n",
    "print(\"   Yes      \", sum_y,end=\"     \")\n",
    "\n",
    "print(p_y)\n",
    "\n",
    "print(\"--------------------------------------\")\n",
    "\n",
    "print(\"   No       \", sum_n,end=\"     \")\n",
    "print(p_n)\n"
   ]
  },
  {
   "cell_type": "markdown",
   "metadata": {},
   "source": [
    "FUNCTION TO MAKE PREDICTIONS BASED ON NAIVE BAYES"
   ]
  },
  {
   "cell_type": "code",
   "execution_count": 100,
   "metadata": {},
   "outputs": [],
   "source": [
    "def Bay():\n",
    "    age= input(\"Select age group (Youth, middle_aged, senior): \")\n",
    "    income = input(\"Enter the income domain (high, mdeium, low): \")\n",
    "    stu = input(\"Student? (yes/no): \")\n",
    "    cred = input(\"Enter credit rating (fair, excellent): \")\n",
    "    \n",
    "    sum_y = sum((df[\"Class:buys Computer\"]== \"yes\") & (df['age ']==age))\n",
    "    p_a = sum_y/9\n",
    "    sum_y = sum((df[\"Class:buys Computer\"]== \"yes\") & (df['income']==income))\n",
    "    p_i = sum_y/9\n",
    "    sum_y = sum((df[\"Class:buys Computer\"]== \"yes\") & (df['credit_rating']==cred))\n",
    "    p_c = sum_y/9\n",
    "    sum_y = sum((df[\"Class:buys Computer\"]== \"yes\") & (df['student']==stu))\n",
    "    p_s = sum_y/9\n",
    "\n",
    "    pr_y = p_y * (p_a * p_i * p_c * p_s)\n",
    "            \n",
    "        \n",
    "    sum_n = sum((df[\"Class:buys Computer\"]== \"no\") & (df['age ']==age))\n",
    "    p_a = sum_n/5\n",
    "    sum_n = sum((df[\"Class:buys Computer\"]== \"no\") & (df['income']==income))\n",
    "    p_i = sum_n/5\n",
    "    sum_n = sum((df[\"Class:buys Computer\"]== \"no\") & (df['credit_rating']==cred))\n",
    "    p_c = sum_n/5\n",
    "    sum_n = sum((df[\"Class:buys Computer\"]== \"no\") & (df['student']==stu))\n",
    "    p_s = sum_n/5\n",
    "\n",
    "    pr_n = p_n * (p_a * p_i * p_c * p_s)\n",
    "    \n",
    "    print(\"------------------------------------------------\")\n",
    "    \n",
    "    print(\"Actual value :- \",df[((df['age ']==age) & (df['income']==income) & (df['student']==stu) & \n",
    "                                 (df['credit_rating']==cred))]['Class:buys Computer'])\n",
    "    \n",
    "    print(\"------------------------------------------------\")\n",
    "    \n",
    "    if (pr_y > pr_n):\n",
    "        print(\"Predicted :- Yes\")\n",
    "    else:\n",
    "        print(\"Predicted :- No\")\n",
    "    "
   ]
  },
  {
   "cell_type": "markdown",
   "metadata": {},
   "source": [
    "MAKING PREDICTIONS USING THE ABOVE FUNCTION"
   ]
  },
  {
   "cell_type": "code",
   "execution_count": 116,
   "metadata": {},
   "outputs": [
    {
     "name": "stdout",
     "output_type": "stream",
     "text": [
      "Select age group (Youth, middle_aged, senior): Youth\n",
      "Enter the income domain (high, mdeium, low): medium\n",
      "Student? (yes/no): yes\n",
      "Enter credit rating (fair, excellent): fair\n",
      "------------------------------------------------\n",
      "Actual value :-  Series([], Name: Class:buys Computer, dtype: object)\n",
      "------------------------------------------------\n",
      "Predicted :- Yes\n"
     ]
    }
   ],
   "source": [
    "Bay()"
   ]
  },
  {
   "cell_type": "markdown",
   "metadata": {},
   "source": [
    "# SCIKIT LEARN"
   ]
  },
  {
   "cell_type": "markdown",
   "metadata": {},
   "source": [
    "ENCODING DATA"
   ]
  },
  {
   "cell_type": "code",
   "execution_count": 12,
   "metadata": {},
   "outputs": [
    {
     "data": {
      "text/html": [
       "<div>\n",
       "<style scoped>\n",
       "    .dataframe tbody tr th:only-of-type {\n",
       "        vertical-align: middle;\n",
       "    }\n",
       "\n",
       "    .dataframe tbody tr th {\n",
       "        vertical-align: top;\n",
       "    }\n",
       "\n",
       "    .dataframe thead th {\n",
       "        text-align: right;\n",
       "    }\n",
       "</style>\n",
       "<table border=\"1\" class=\"dataframe\">\n",
       "  <thead>\n",
       "    <tr style=\"text-align: right;\">\n",
       "      <th></th>\n",
       "      <th>age</th>\n",
       "      <th>income</th>\n",
       "      <th>student</th>\n",
       "      <th>credit_rating</th>\n",
       "      <th>Class:buys Computer</th>\n",
       "    </tr>\n",
       "  </thead>\n",
       "  <tbody>\n",
       "    <tr>\n",
       "      <th>0</th>\n",
       "      <td>0</td>\n",
       "      <td>2</td>\n",
       "      <td>0</td>\n",
       "      <td>0</td>\n",
       "      <td>no</td>\n",
       "    </tr>\n",
       "    <tr>\n",
       "      <th>1</th>\n",
       "      <td>0</td>\n",
       "      <td>2</td>\n",
       "      <td>0</td>\n",
       "      <td>1</td>\n",
       "      <td>no</td>\n",
       "    </tr>\n",
       "    <tr>\n",
       "      <th>2</th>\n",
       "      <td>1</td>\n",
       "      <td>2</td>\n",
       "      <td>0</td>\n",
       "      <td>0</td>\n",
       "      <td>yes</td>\n",
       "    </tr>\n",
       "    <tr>\n",
       "      <th>3</th>\n",
       "      <td>2</td>\n",
       "      <td>1</td>\n",
       "      <td>0</td>\n",
       "      <td>0</td>\n",
       "      <td>yes</td>\n",
       "    </tr>\n",
       "    <tr>\n",
       "      <th>4</th>\n",
       "      <td>2</td>\n",
       "      <td>0</td>\n",
       "      <td>1</td>\n",
       "      <td>0</td>\n",
       "      <td>yes</td>\n",
       "    </tr>\n",
       "  </tbody>\n",
       "</table>\n",
       "</div>"
      ],
      "text/plain": [
       "   age   income  student  credit_rating Class:buys Computer\n",
       "0     0       2        0              0                  no\n",
       "1     0       2        0              1                  no\n",
       "2     1       2        0              0                 yes\n",
       "3     2       1        0              0                 yes\n",
       "4     2       0        1              0                 yes"
      ]
     },
     "execution_count": 12,
     "metadata": {},
     "output_type": "execute_result"
    }
   ],
   "source": [
    "\n",
    "cat_df = df.drop(\"RID\", axis=1)\n",
    "\n",
    "en1= {\"Youth\":0, \"middle_aged\":1, \"senior\":2}\n",
    "en2= {\"low\":0, \"medium\":1, \"high\":2}\n",
    "en3= {\"no\":0, \"yes\":1}\n",
    "en4= {\"fair\":0, 'excellent':1}\n",
    "en5= {\"no\":0, \"yes\":1}\n",
    "\n",
    "cat_df[\"age \"]           =  cat_df[\"age \"].map(en1)\n",
    "cat_df[\"income\"]         =  cat_df[\"income\"].map(en2)\n",
    "cat_df[\"student\"]        =  cat_df[\"student\"].map(en3)\n",
    "cat_df[\"credit_rating\"]  =  cat_df[\"credit_rating\"].map(en4)\n",
    "cat_df.head()"
   ]
  },
  {
   "cell_type": "markdown",
   "metadata": {},
   "source": [
    "SPLITTING DATA"
   ]
  },
  {
   "cell_type": "code",
   "execution_count": 13,
   "metadata": {},
   "outputs": [],
   "source": [
    "from sklearn.model_selection import train_test_split"
   ]
  },
  {
   "cell_type": "code",
   "execution_count": 19,
   "metadata": {},
   "outputs": [],
   "source": [
    "X = cat_df.drop('Class:buys Computer', axis=1)\n",
    "y = cat_df['Class:buys Computer']\n",
    "X_train, X_test, y_train, y_test = train_test_split(X, y, test_size=0.30)"
   ]
  },
  {
   "cell_type": "markdown",
   "metadata": {},
   "source": [
    "IMPORTING MODEL AND FITTING DATA"
   ]
  },
  {
   "cell_type": "code",
   "execution_count": 20,
   "metadata": {},
   "outputs": [
    {
     "data": {
      "text/plain": [
       "GaussianNB(priors=None, var_smoothing=1e-09)"
      ]
     },
     "execution_count": 20,
     "metadata": {},
     "output_type": "execute_result"
    }
   ],
   "source": [
    "from sklearn.naive_bayes import GaussianNB\n",
    "gnb = GaussianNB()\n",
    "gnb.fit(X_train, y_train)"
   ]
  },
  {
   "cell_type": "markdown",
   "metadata": {},
   "source": [
    "MAKING PREDICTIONS AND CHECKING ACCUARACY"
   ]
  },
  {
   "cell_type": "code",
   "execution_count": 21,
   "metadata": {},
   "outputs": [
    {
     "name": "stdout",
     "output_type": "stream",
     "text": [
      "Predicted Values:- ['yes' 'yes' 'yes' 'yes' 'yes']\n",
      "-------------------------------------------------------- \n",
      "Actual Values:-\n",
      "6     yes\n",
      "5      no\n",
      "10    yes\n",
      "9     yes\n",
      "12    yes\n",
      "Name: Class:buys Computer, dtype: object\n",
      "\n",
      "-------------------------------------------------------- \n",
      "Number of mislabeled values out of a total 5 values:- 1\n",
      "-------------------------------------------------------- \n",
      "Accuracy: 0.800 --> 80.0%\n"
     ]
    }
   ],
   "source": [
    "predictions = gnb.predict(X_test)\n",
    "print(\"Predicted Values:-\", end=' ')\n",
    "print(predictions)\n",
    "print(\"-------------------------------------------------------- \")\n",
    "\n",
    "print(\"Actual Values:-\")\n",
    "print(y_test)\n",
    "print(\"\")\n",
    "print(\"-------------------------------------------------------- \")\n",
    "\n",
    "print(\"Number of mislabeled values out of a total %d values:- %d\" % (X_test.shape[0], (y_test != predictions).sum()))\n",
    "print(\"-------------------------------------------------------- \")\n",
    "\n",
    "import sklearn.metrics\n",
    "print(\"Accuracy:\", end=\" \")\n",
    "a=sklearn.metrics.accuracy_score(y_test, predictions)\n",
    "print(\"%.3f\"%a, end=\" --> \")\n",
    "print(a*100,end='')\n",
    "print('%')"
   ]
  },
  {
   "cell_type": "markdown",
   "metadata": {},
   "source": [
    "PRINTING CLASSIFICATION REPORT"
   ]
  },
  {
   "cell_type": "code",
   "execution_count": 18,
   "metadata": {},
   "outputs": [
    {
     "name": "stdout",
     "output_type": "stream",
     "text": [
      "              precision    recall  f1-score   support\n",
      "\n",
      "          no       0.00      0.00      0.00         4\n",
      "         yes       0.20      1.00      0.33         1\n",
      "\n",
      "    accuracy                           0.20         5\n",
      "   macro avg       0.10      0.50      0.17         5\n",
      "weighted avg       0.04      0.20      0.07         5\n",
      "\n"
     ]
    },
    {
     "name": "stderr",
     "output_type": "stream",
     "text": [
      "C:\\Users\\Divyansh\\Anaconda3\\lib\\site-packages\\sklearn\\metrics\\classification.py:1437: UndefinedMetricWarning: Precision and F-score are ill-defined and being set to 0.0 in labels with no predicted samples.\n",
      "  'precision', 'predicted', average, warn_for)\n"
     ]
    }
   ],
   "source": [
    "from sklearn.metrics import classification_report,confusion_matrix\n",
    "print(classification_report(y_test,predictions))"
   ]
  },
  {
   "cell_type": "code",
   "execution_count": null,
   "metadata": {},
   "outputs": [],
   "source": []
  },
  {
   "cell_type": "code",
   "execution_count": null,
   "metadata": {},
   "outputs": [],
   "source": []
  },
  {
   "cell_type": "code",
   "execution_count": null,
   "metadata": {},
   "outputs": [],
   "source": []
  },
  {
   "cell_type": "code",
   "execution_count": null,
   "metadata": {},
   "outputs": [],
   "source": []
  },
  {
   "cell_type": "code",
   "execution_count": null,
   "metadata": {},
   "outputs": [],
   "source": []
  }
 ],
 "metadata": {
  "kernelspec": {
   "display_name": "Python 3",
   "language": "python",
   "name": "python3"
  },
  "language_info": {
   "codemirror_mode": {
    "name": "ipython",
    "version": 3
   },
   "file_extension": ".py",
   "mimetype": "text/x-python",
   "name": "python",
   "nbconvert_exporter": "python",
   "pygments_lexer": "ipython3",
   "version": "3.7.3"
  }
 },
 "nbformat": 4,
 "nbformat_minor": 2
}
