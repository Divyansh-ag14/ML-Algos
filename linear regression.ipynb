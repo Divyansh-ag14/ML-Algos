{
 "cells": [
  {
   "cell_type": "markdown",
   "metadata": {},
   "source": [
    "# ML Lab \n",
    "# Experiment -1 (Linear Regression)\n"
   ]
  },
  {
   "cell_type": "markdown",
   "metadata": {},
   "source": [
    "Divyansh Agarwal\n",
    "\n",
    "AIML B3\n",
    "\n",
    "500076414\n",
    "\n",
    "R177219079\n"
   ]
  },
  {
   "cell_type": "code",
   "execution_count": 20,
   "metadata": {},
   "outputs": [],
   "source": [
    "import numpy as np\n",
    "import pandas as pd\n",
    "import matplotlib.pyplot as plt\n",
    "%notebook inline"
   ]
  },
  {
   "cell_type": "code",
   "execution_count": 21,
   "metadata": {},
   "outputs": [],
   "source": [
    "df = pd.read_csv(\"salary_data.csv\")"
   ]
  },
  {
   "cell_type": "code",
   "execution_count": 22,
   "metadata": {},
   "outputs": [
    {
     "data": {
      "text/html": [
       "<div>\n",
       "<style scoped>\n",
       "    .dataframe tbody tr th:only-of-type {\n",
       "        vertical-align: middle;\n",
       "    }\n",
       "\n",
       "    .dataframe tbody tr th {\n",
       "        vertical-align: top;\n",
       "    }\n",
       "\n",
       "    .dataframe thead th {\n",
       "        text-align: right;\n",
       "    }\n",
       "</style>\n",
       "<table border=\"1\" class=\"dataframe\">\n",
       "  <thead>\n",
       "    <tr style=\"text-align: right;\">\n",
       "      <th></th>\n",
       "      <th>YearsExperience</th>\n",
       "      <th>Salary</th>\n",
       "    </tr>\n",
       "  </thead>\n",
       "  <tbody>\n",
       "    <tr>\n",
       "      <th>0</th>\n",
       "      <td>1.1</td>\n",
       "      <td>39343</td>\n",
       "    </tr>\n",
       "    <tr>\n",
       "      <th>1</th>\n",
       "      <td>1.3</td>\n",
       "      <td>46205</td>\n",
       "    </tr>\n",
       "    <tr>\n",
       "      <th>2</th>\n",
       "      <td>1.5</td>\n",
       "      <td>37731</td>\n",
       "    </tr>\n",
       "    <tr>\n",
       "      <th>3</th>\n",
       "      <td>2.0</td>\n",
       "      <td>43525</td>\n",
       "    </tr>\n",
       "    <tr>\n",
       "      <th>4</th>\n",
       "      <td>2.2</td>\n",
       "      <td>39891</td>\n",
       "    </tr>\n",
       "  </tbody>\n",
       "</table>\n",
       "</div>"
      ],
      "text/plain": [
       "   YearsExperience  Salary\n",
       "0              1.1   39343\n",
       "1              1.3   46205\n",
       "2              1.5   37731\n",
       "3              2.0   43525\n",
       "4              2.2   39891"
      ]
     },
     "execution_count": 22,
     "metadata": {},
     "output_type": "execute_result"
    }
   ],
   "source": [
    "df.head()"
   ]
  },
  {
   "cell_type": "code",
   "execution_count": 23,
   "metadata": {},
   "outputs": [
    {
     "name": "stdout",
     "output_type": "stream",
     "text": [
      "Checking for null values in all columns...\n",
      "\n",
      "No column contains null values\n"
     ]
    }
   ],
   "source": [
    "#checking for null values\n",
    "\n",
    "print(\"Checking for null values in all columns...\\n\")\n",
    "count =0\n",
    "for i in df.columns:\n",
    "    if(i == np.where(pd.isnull(i))):\n",
    "        count+=1\n",
    "if (count>0):\n",
    "    print(str(count) + \"columns contain null values\")\n",
    "else:\n",
    "    print(\"No column contains null values\")"
   ]
  },
  {
   "cell_type": "code",
   "execution_count": 24,
   "metadata": {},
   "outputs": [],
   "source": [
    "def calcMean(X):\n",
    "    \n",
    "    sum = 0\n",
    "    count = 0\n",
    "    \n",
    "    for i in X:\n",
    "        sum += i\n",
    "        count += 1\n",
    "    \n",
    "    mean = sum/count\n",
    "    \n",
    "    return mean"
   ]
  },
  {
   "cell_type": "code",
   "execution_count": 25,
   "metadata": {},
   "outputs": [],
   "source": [
    "def calcError(Y,y):\n",
    "    \n",
    "    mse = sum(((Y-y)**2) / Y.shape[0])\n",
    "    rmse = mse ** (1/2)\n",
    "    mae = Y-y\n",
    "    \n",
    "    for i in range(len(mae)):\n",
    "        if (mae[i] < 0):\n",
    "            mae[i] = -mae[i]\n",
    "    mae = sum(mae) / Y.shape[0]\n",
    "    \n",
    "    print(\"Mean Absolute Error: \", mae)\n",
    "    print(\"------------------------------\")\n",
    "    print(\"Mean Squared Error: \", mse)\n",
    "    print(\"------------------------------\")\n",
    "    print(\"Root Mean Squared Error: \", rmse)\n",
    "    "
   ]
  },
  {
   "cell_type": "code",
   "execution_count": 26,
   "metadata": {},
   "outputs": [],
   "source": [
    "def makePred(m,c):\n",
    "    \n",
    "    x = float(input(\"\\nEnter the Years of Exprerience: \"))\n",
    "    y = (m * x) + c\n",
    "    \n",
    "    print(\"------------------------------\")\n",
    "    print(\"Expected salary: \", y)\n",
    "    print(\"------------------------------\")\n",
    "    \n",
    "    return(x,y)"
   ]
  },
  {
   "cell_type": "code",
   "execution_count": 27,
   "metadata": {},
   "outputs": [],
   "source": [
    "def updateValues(X, Y, m, c, exp, sal):\n",
    "    \n",
    "    X = np.append(X, exp,)\n",
    "    Y = np.append(Y, sal)\n",
    "    \n",
    "    y = (m * X) + c\n",
    "    \n",
    "    return(X,Y,y)"
   ]
  },
  {
   "cell_type": "code",
   "execution_count": 28,
   "metadata": {},
   "outputs": [],
   "source": [
    "def regPlot(X,Y,y):\n",
    "        \n",
    "        fig, ax = plt.subplots(figsize=(9,7))\n",
    "        \n",
    "        #data points\n",
    "        ax.scatter(X,Y, color = \"black\")\n",
    "        \n",
    "        # regression line\n",
    "        ax.plot(X,y, color = \"orange\")\n",
    "        \n",
    "        #setting title\n",
    "        plt.title(\"Simple Linear Regression\", fontsize = 20)\n",
    "        \n",
    "        #setting label\n",
    "        plt.xlabel(\"Years of Experience\", fontsize = 15)\n",
    "        plt.ylabel(\"Salary\", fontsize = 15)\n",
    "        \n",
    "        fig.tight_layout() # ensures everything is displayed fine"
   ]
  },
  {
   "cell_type": "code",
   "execution_count": 31,
   "metadata": {},
   "outputs": [],
   "source": [
    "def linerRegression(df):\n",
    "    print(\"Running a Linear Regression on the dataset in 3 2 1..\\n\")\n",
    "    X = df[\"YearsExperience\"].values # array containing years of exp.\n",
    "    Y = df[\"Salary\"].values # array containing sal\n",
    "    \n",
    "    mean_X = calcMean(X) # using custom calcMean() function to calculate the mean for both arrays\n",
    "    mean_Y = calcMean(Y)\n",
    "    \n",
    "    # slope calculations\n",
    "    n = len(X) \n",
    "    numerator = 0 \n",
    "    denominator = 0\n",
    "    \n",
    "    for i in range(n): # for loop to traverse through array and get the values of num. and den.\n",
    "        \n",
    "        numerator += (X[i] - mean_X) * (Y[i] - mean_Y)\n",
    "        denominator += (X[i] - mean_X)**2\n",
    "    \n",
    "    m = numerator/denominator # assigning value to slope (m)\n",
    "    c = mean_Y - (m * mean_X) # y= mx+c --> c = y-mx (c is the intercept)\n",
    "    \n",
    "    y = (m * X) + c # for every data point in array X, getting a subsequent y value \n",
    "    \n",
    "    print(\"Slope: \" + str(m) +  \"\\n------------------------------\" + \" \\nIntercept: \" + str(c))\n",
    "    print(\"------------------------------\")\n",
    "    \n",
    "    calcError(Y,y) # fucntion to calculate the errors\n",
    "    print(\"------------------------------\")\n",
    "    \n",
    "    ch = input(\"Do you want to make a prediction: (Y/N)? \") # user input\n",
    "    \n",
    "    if(ch==\"Y\"):\n",
    "        exp, sal = makePred(m,c) # making predcitions through makePred() function\n",
    "        ch = input(\"Do you want to generate a regression plot?: (Y/N) \") \n",
    "        \n",
    "        if(ch == \"Y\"):\n",
    "            print(\"------------------------------\")\n",
    "            print(\"\\nAppending your input to the dataset......\")\n",
    "            \n",
    "            X, Y, y = updateValues(X, Y, m, c, exp, sal) # function to append input values to arrays\n",
    "            regPlot(X, Y, y) # plotting fucntion\n",
    "        \n",
    "        else:\n",
    "            print(\"------------------------------\")\n",
    "            print(\"Okay! Tho the plot looks good, still your choice is what matters.\")\n",
    "        \n",
    "    else:\n",
    "        print(\"Okay!\")\n",
    "        print(\"------------------------------\")\n",
    "        \n",
    "        ch = input((\"Do you want to generate a regression plot for this dataset?: (Y/N) \"))\n",
    "        \n",
    "        if(ch==\"Y\"):\n",
    "            print(\"\\nGenerating the plot...\")\n",
    "            regPlot(X, Y, y) \n",
    "        \n",
    "        else:\n",
    "            print(\"\\nFine, see you soon.....\")\n",
    "        \n",
    "    "
   ]
  },
  {
   "cell_type": "code",
   "execution_count": 32,
   "metadata": {},
   "outputs": [
    {
     "name": "stdout",
     "output_type": "stream",
     "text": [
      "Running a Linear Regression on the dataset in 3 2 1..\n",
      "\n",
      "Slope: 9449.962321455077\n",
      "------------------------------ \n",
      "Intercept: 25792.20019866869\n",
      "------------------------------\n",
      "Mean Absolute Error:  4644.201289443538\n",
      "------------------------------\n",
      "Mean Squared Error:  31270951.722280968\n",
      "------------------------------\n",
      "Root Mean Squared Error:  5592.043608760662\n",
      "------------------------------\n",
      "Do you want to make a prediction: (Y/N)? Y\n",
      "\n",
      "Enter the Years of Exprerience: 4.5\n",
      "------------------------------\n",
      "Expected salary:  68317.03064521654\n",
      "------------------------------\n",
      "Do you want to generate a regression plot?: (Y/N) Y\n",
      "------------------------------\n",
      "\n",
      "Appending your input to the dataset......\n"
     ]
    },
    {
     "data": {
      "image/png": "[encoded data removed]",
      "text/plain": [
       "<Figure size 648x504 with 1 Axes>"
      ]
     },
     "metadata": {
      "needs_background": "light"
     },
     "output_type": "display_data"
    }
   ],
   "source": [
    "linerRegression(df)"
   ]
  },
  {
   "cell_type": "code",
   "execution_count": 34,
   "metadata": {},
   "outputs": [
    {
     "name": "stdout",
     "output_type": "stream",
     "text": [
      "Running a Linear Regression on the dataset in 3 2 1..\n",
      "\n",
      "Slope: 9449.962321455077\n",
      "------------------------------ \n",
      "Intercept: 25792.20019866869\n",
      "------------------------------\n",
      "Mean Absolute Error:  4644.201289443538\n",
      "------------------------------\n",
      "Mean Squared Error:  31270951.722280968\n",
      "------------------------------\n",
      "Root Mean Squared Error:  5592.043608760662\n",
      "------------------------------\n",
      "Do you want to make a prediction: (Y/N)? Y\n",
      "\n",
      "Enter the Years of Exprerience: 5\n",
      "------------------------------\n",
      "Expected salary:  73042.01180594409\n",
      "------------------------------\n",
      "Do you want to generate a regression plot?: (Y/N) N\n",
      "------------------------------\n",
      "Okay! Tho the plot looks good, still your choice is what matters.\n"
     ]
    }
   ],
   "source": [
    "linerRegression(df)"
   ]
  },
  {
   "cell_type": "code",
   "execution_count": null,
   "metadata": {},
   "outputs": [],
   "source": []
  }
 ],
 "metadata": {
  "kernelspec": {
   "display_name": "Python 3",
   "language": "python",
   "name": "python3"
  },
  "language_info": {
   "codemirror_mode": {
    "name": "ipython",
    "version": 3
   },
   "file_extension": ".py",
   "mimetype": "text/x-python",
   "name": "python",
   "nbconvert_exporter": "python",
   "pygments_lexer": "ipython3",
   "version": "3.7.3"
  }
 },
 "nbformat": 4,
 "nbformat_minor": 2
}
