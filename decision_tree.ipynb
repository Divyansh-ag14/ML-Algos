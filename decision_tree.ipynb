{
 "cells": [
  {
   "cell_type": "markdown",
   "metadata": {},
   "source": [
    "\n",
    "# (Decision Tree) \n",
    "\n",
    "(From scratch and sklearn)"
   ]
  },
  {
   "cell_type": "markdown",
   "metadata": {},
   "source": [
    "By - DIVYANSH AGARWAL\n"
   ]
  },
  {
   "cell_type": "code",
   "execution_count": 1,
   "metadata": {},
   "outputs": [],
   "source": [
    "import numpy as np\n",
    "import pandas as pd\n",
    "import math"
   ]
  },
  {
   "cell_type": "code",
   "execution_count": 2,
   "metadata": {},
   "outputs": [],
   "source": [
    "df=pd.read_csv(\"income.csv\")"
   ]
  },
  {
   "cell_type": "code",
   "execution_count": 3,
   "metadata": {},
   "outputs": [
    {
     "data": {
      "text/html": [
       "<div>\n",
       "<style scoped>\n",
       "    .dataframe tbody tr th:only-of-type {\n",
       "        vertical-align: middle;\n",
       "    }\n",
       "\n",
       "    .dataframe tbody tr th {\n",
       "        vertical-align: top;\n",
       "    }\n",
       "\n",
       "    .dataframe thead th {\n",
       "        text-align: right;\n",
       "    }\n",
       "</style>\n",
       "<table border=\"1\" class=\"dataframe\">\n",
       "  <thead>\n",
       "    <tr style=\"text-align: right;\">\n",
       "      <th></th>\n",
       "      <th>RID</th>\n",
       "      <th>age</th>\n",
       "      <th>income</th>\n",
       "      <th>student</th>\n",
       "      <th>credit_rating</th>\n",
       "      <th>Class:buys Computer</th>\n",
       "    </tr>\n",
       "  </thead>\n",
       "  <tbody>\n",
       "    <tr>\n",
       "      <th>0</th>\n",
       "      <td>1</td>\n",
       "      <td>Youth</td>\n",
       "      <td>high</td>\n",
       "      <td>no</td>\n",
       "      <td>fair</td>\n",
       "      <td>no</td>\n",
       "    </tr>\n",
       "    <tr>\n",
       "      <th>1</th>\n",
       "      <td>2</td>\n",
       "      <td>Youth</td>\n",
       "      <td>high</td>\n",
       "      <td>no</td>\n",
       "      <td>excellent</td>\n",
       "      <td>no</td>\n",
       "    </tr>\n",
       "    <tr>\n",
       "      <th>2</th>\n",
       "      <td>3</td>\n",
       "      <td>middle_aged</td>\n",
       "      <td>high</td>\n",
       "      <td>no</td>\n",
       "      <td>fair</td>\n",
       "      <td>yes</td>\n",
       "    </tr>\n",
       "    <tr>\n",
       "      <th>3</th>\n",
       "      <td>4</td>\n",
       "      <td>senior</td>\n",
       "      <td>medium</td>\n",
       "      <td>no</td>\n",
       "      <td>fair</td>\n",
       "      <td>yes</td>\n",
       "    </tr>\n",
       "    <tr>\n",
       "      <th>4</th>\n",
       "      <td>5</td>\n",
       "      <td>senior</td>\n",
       "      <td>low</td>\n",
       "      <td>yes</td>\n",
       "      <td>fair</td>\n",
       "      <td>yes</td>\n",
       "    </tr>\n",
       "  </tbody>\n",
       "</table>\n",
       "</div>"
      ],
      "text/plain": [
       "   RID         age   income student credit_rating Class:buys Computer\n",
       "0    1        Youth    high      no          fair                  no\n",
       "1    2        Youth    high      no     excellent                  no\n",
       "2    3  middle_aged    high      no          fair                 yes\n",
       "3    4       senior  medium      no          fair                 yes\n",
       "4    5       senior     low     yes          fair                 yes"
      ]
     },
     "execution_count": 3,
     "metadata": {},
     "output_type": "execute_result"
    }
   ],
   "source": [
    "df.head()"
   ]
  },
  {
   "cell_type": "code",
   "execution_count": 4,
   "metadata": {},
   "outputs": [
    {
     "name": "stdout",
     "output_type": "stream",
     "text": [
      "columns : Index(['RID', 'age ', 'income', 'student', 'credit_rating',\n",
      "       'Class:buys Computer'],\n",
      "      dtype='object')\n",
      "\n",
      "shape : (14, 6)\n"
     ]
    }
   ],
   "source": [
    "print(\"columns :\",df.columns)\n",
    "print(\"\")\n",
    "print(\"shape :\",df.shape)"
   ]
  },
  {
   "cell_type": "markdown",
   "metadata": {},
   "source": [
    "# From Scratch (Finding Root Node)"
   ]
  },
  {
   "cell_type": "code",
   "execution_count": 5,
   "metadata": {},
   "outputs": [],
   "source": [
    "sum_y= sum(df[\"Class:buys Computer\"]== \"yes\")\n",
    "sum_n= sum(df[\"Class:buys Computer\"]== \"no\")\n",
    "r=14"
   ]
  },
  {
   "cell_type": "code",
   "execution_count": 7,
   "metadata": {},
   "outputs": [
    {
     "name": "stdout",
     "output_type": "stream",
     "text": [
      "info: 0.9402859586706309\n"
     ]
    }
   ],
   "source": [
    "info = (-sum_y/r * math.log(sum_y/r,2) -sum_n/r * math.log(sum_n/r,2) )\n",
    "print(\"info:\",info)"
   ]
  },
  {
   "cell_type": "markdown",
   "metadata": {},
   "source": [
    "# Expected info for each attribute"
   ]
  },
  {
   "cell_type": "markdown",
   "metadata": {},
   "source": [
    "AGE"
   ]
  },
  {
   "cell_type": "code",
   "execution_count": 9,
   "metadata": {},
   "outputs": [],
   "source": [
    "# age_y\n",
    "\n",
    "sum_y = sum((df[\"Class:buys Computer\"]== \"yes\") & (df['age ']==\"Youth\")) # =2\n",
    "sum_n = sum((df[\"Class:buys Computer\"]== \"no\") & (df['age ']==\"Youth\")) # =3\n",
    "s_yn = sum_y + sum_n # =5\n",
    "\n",
    "info_age_y = s_yn/r * ((-sum_y/s_yn* math.log(sum_y/s_yn,2)) - sum_n/s_yn * math.log(sum_n/s_yn,2))\n",
    "\n",
    "# age_m\n",
    "\n",
    "sum_y = sum((df[\"Class:buys Computer\"]== \"yes\") & (df['age ']==\"middle_aged\")) # =4\n",
    "sum_n = sum((df[\"Class:buys Computer\"]== \"no\") & (df['age ']==\"middle_aged\")) # =0\n",
    "s_yn = sum_y + sum_n # =4\n",
    "\n",
    "# to avoid domain error ignore sum_n \n",
    "info_age_m = s_yn/r * ( -sum_y/s_yn* math.log(sum_y/s_yn,2))\n",
    "\n",
    "#age_s\n",
    "\n",
    "sum_y = sum((df[\"Class:buys Computer\"]== \"yes\") & (df['age ']==\"senior\")) # =4\n",
    "sum_n = sum((df[\"Class:buys Computer\"]== \"no\") & (df['age ']==\"senior\")) # =0\n",
    "s_yn = sum_y + sum_n # =4\n",
    "info_age_s = s_yn/r * ((-sum_y/s_yn* math.log(sum_y/s_yn,2)) - sum_n/s_yn * math.log(sum_n/s_yn,2))\n",
    "\n",
    "\n",
    "# total\n",
    "info_age= info_age_y+ info_age_m+ info_age_s"
   ]
  },
  {
   "cell_type": "markdown",
   "metadata": {},
   "source": [
    "INCOME"
   ]
  },
  {
   "cell_type": "code",
   "execution_count": 10,
   "metadata": {},
   "outputs": [],
   "source": [
    "# income_l\n",
    "\n",
    "sum_y = sum((df[\"Class:buys Computer\"]== \"yes\") & (df['income']==\"low\")) # =3\n",
    "sum_n = sum((df[\"Class:buys Computer\"]== \"no\") & (df['income']==\"low\")) # =1\n",
    "s_yn = sum_y + sum_n # =4\n",
    "\n",
    "info_income_l = s_yn/r * ((-sum_y/s_yn* math.log(sum_y/s_yn,2)) - sum_n/s_yn * math.log(sum_n/s_yn,2))\n",
    "\n",
    "# income_m\n",
    "\n",
    "sum_y = sum((df[\"Class:buys Computer\"]== \"yes\") & (df['income']==\"medium\")) # =3\n",
    "sum_n = sum((df[\"Class:buys Computer\"]== \"no\") & (df['income']==\"medium\")) # =1\n",
    "s_yn = sum_y + sum_n # =4\n",
    "\n",
    "info_income_m = s_yn/r * ((-sum_y/s_yn* math.log(sum_y/s_yn,2)) - sum_n/s_yn * math.log(sum_n/s_yn,2))\n",
    "\n",
    "# income_h\n",
    "\n",
    "sum_y = sum((df[\"Class:buys Computer\"]== \"yes\") & (df['income']==\"high\")) # =4\n",
    "sum_n = sum((df[\"Class:buys Computer\"]== \"no\") & (df['income']==\"high\")) # =2\n",
    "s_yn = sum_y + sum_n # =6\n",
    "\n",
    "info_income_h = s_yn/r * ((-sum_y/s_yn* math.log(sum_y/s_yn,2)) - sum_n/s_yn * math.log(sum_n/s_yn,2))\n",
    "\n",
    "\n",
    "# total\n",
    "\n",
    "info_income = info_income_l + info_income_m + info_income_h"
   ]
  },
  {
   "cell_type": "markdown",
   "metadata": {},
   "source": [
    "STUDENT"
   ]
  },
  {
   "cell_type": "code",
   "execution_count": 11,
   "metadata": {},
   "outputs": [],
   "source": [
    "# student_y\n",
    "\n",
    "sum_y = sum((df[\"Class:buys Computer\"]== \"yes\") & (df['student']==\"yes\")) # =6\n",
    "sum_n = sum((df[\"Class:buys Computer\"]== \"no\") & (df['student']==\"yes\")) # =1\n",
    "s_yn = sum_y + sum_n # =10\n",
    "\n",
    "info_stu_y = s_yn/r * ((-sum_y/s_yn* math.log(sum_y/s_yn,2)) - sum_n/s_yn * math.log(sum_n/s_yn,2))\n",
    "\n",
    "# student_n\n",
    "\n",
    "sum_y = sum((df[\"Class:buys Computer\"]== \"yes\") & (df['student']==\"no\")) # =3\n",
    "sum_n = sum((df[\"Class:buys Computer\"]== \"no\") & (df['student']==\"no\")) # =4\n",
    "s_yn = sum_y + sum_n # =7\n",
    "\n",
    "info_stu_n = s_yn/r * ((-sum_y/s_yn* math.log(sum_y/s_yn,2)) - sum_n/s_yn * math.log(sum_n/s_yn,2))\n",
    "\n",
    "# total\n",
    "\n",
    "info_stu = info_stu_y + info_stu_n"
   ]
  },
  {
   "cell_type": "markdown",
   "metadata": {},
   "source": [
    "CREDIT"
   ]
  },
  {
   "cell_type": "code",
   "execution_count": 12,
   "metadata": {},
   "outputs": [],
   "source": [
    "# credit_f\n",
    "\n",
    "sum_y = sum((df[\"Class:buys Computer\"]== \"yes\") & (df['credit_rating']==\"fair\")) # =6\n",
    "sum_n = sum((df[\"Class:buys Computer\"]== \"no\") & (df['credit_rating']==\"fair\")) # =2\n",
    "s_yn = sum_y + sum_n # =8\n",
    "\n",
    "info_cred_f = s_yn/r * ((-sum_y/s_yn* math.log(sum_y/s_yn,2)) - sum_n/s_yn * math.log(sum_n/s_yn,2))\n",
    "\n",
    "# credit_e\n",
    "\n",
    "sum_y = sum((df[\"Class:buys Computer\"]== \"yes\") & (df['credit_rating']==\"excellent\")) # =3\n",
    "sum_n = sum((df[\"Class:buys Computer\"]== \"no\") & (df['credit_rating']==\"excellent\")) # =3\n",
    "s_yn = sum_y + sum_n # =6\n",
    "\n",
    "info_cred_e = s_yn/r * ((-sum_y/s_yn* math.log(sum_y/s_yn,2)) - sum_n/s_yn * math.log(sum_n/s_yn,2))\n",
    "\n",
    "# total\n",
    "\n",
    "info_cred = info_cred_f + info_cred_e"
   ]
  },
  {
   "cell_type": "markdown",
   "metadata": {},
   "source": [
    "# INFORMATION GIAN"
   ]
  },
  {
   "cell_type": "code",
   "execution_count": 13,
   "metadata": {},
   "outputs": [],
   "source": [
    "# calculating gains\n",
    "\n",
    "gain_age = info - info_age\n",
    "gain_income = info - info_income\n",
    "gain_stu = info - info_stu\n",
    "gain_cred = info - info_cred"
   ]
  },
  {
   "cell_type": "code",
   "execution_count": 14,
   "metadata": {},
   "outputs": [
    {
     "data": {
      "text/html": [
       "<div>\n",
       "<style scoped>\n",
       "    .dataframe tbody tr th:only-of-type {\n",
       "        vertical-align: middle;\n",
       "    }\n",
       "\n",
       "    .dataframe tbody tr th {\n",
       "        vertical-align: top;\n",
       "    }\n",
       "\n",
       "    .dataframe thead th {\n",
       "        text-align: right;\n",
       "    }\n",
       "</style>\n",
       "<table border=\"1\" class=\"dataframe\">\n",
       "  <thead>\n",
       "    <tr style=\"text-align: right;\">\n",
       "      <th></th>\n",
       "      <th>gain</th>\n",
       "      <th>attribute</th>\n",
       "    </tr>\n",
       "  </thead>\n",
       "  <tbody>\n",
       "    <tr>\n",
       "      <th>0</th>\n",
       "      <td>0.246750</td>\n",
       "      <td>age</td>\n",
       "    </tr>\n",
       "    <tr>\n",
       "      <th>1</th>\n",
       "      <td>0.029223</td>\n",
       "      <td>income</td>\n",
       "    </tr>\n",
       "    <tr>\n",
       "      <th>2</th>\n",
       "      <td>0.151836</td>\n",
       "      <td>student</td>\n",
       "    </tr>\n",
       "    <tr>\n",
       "      <th>3</th>\n",
       "      <td>0.048127</td>\n",
       "      <td>credit_rating</td>\n",
       "    </tr>\n",
       "  </tbody>\n",
       "</table>\n",
       "</div>"
      ],
      "text/plain": [
       "       gain      attribute\n",
       "0  0.246750            age\n",
       "1  0.029223         income\n",
       "2  0.151836        student\n",
       "3  0.048127  credit_rating"
      ]
     },
     "metadata": {},
     "output_type": "display_data"
    },
    {
     "name": "stdout",
     "output_type": "stream",
     "text": [
      "ROOT NODE - (MAX GAIN)\n"
     ]
    },
    {
     "data": {
      "text/html": [
       "<div>\n",
       "<style scoped>\n",
       "    .dataframe tbody tr th:only-of-type {\n",
       "        vertical-align: middle;\n",
       "    }\n",
       "\n",
       "    .dataframe tbody tr th {\n",
       "        vertical-align: top;\n",
       "    }\n",
       "\n",
       "    .dataframe thead th {\n",
       "        text-align: right;\n",
       "    }\n",
       "</style>\n",
       "<table border=\"1\" class=\"dataframe\">\n",
       "  <thead>\n",
       "    <tr style=\"text-align: right;\">\n",
       "      <th></th>\n",
       "      <th>gain</th>\n",
       "      <th>attribute</th>\n",
       "    </tr>\n",
       "  </thead>\n",
       "  <tbody>\n",
       "    <tr>\n",
       "      <th>0</th>\n",
       "      <td>0.24675</td>\n",
       "      <td>age</td>\n",
       "    </tr>\n",
       "  </tbody>\n",
       "</table>\n",
       "</div>"
      ],
      "text/plain": [
       "      gain attribute\n",
       "0  0.24675       age"
      ]
     },
     "metadata": {},
     "output_type": "display_data"
    }
   ],
   "source": [
    "# finding max_gain\n",
    "\n",
    "ls = [gain_age, gain_income, gain_stu, gain_cred]\n",
    "data = {\"gain\" : ls, \"attribute\" : [\"age\", \"income\", \"student\", \"credit_rating\"]}\n",
    "\n",
    "df2 = pd.DataFrame(data= data, columns = [\"gain\", \"attribute\"])\n",
    "df3 = df2[df2[\"gain\"] == df2[\"gain\"].max()]\n",
    "\n",
    "display(df2)\n",
    "print(\"ROOT NODE - (MAX GAIN)\")\n",
    "display(df3)"
   ]
  },
  {
   "cell_type": "markdown",
   "metadata": {},
   "source": [
    "DISPLAYING DATA BASED ON AGE GROUP"
   ]
  },
  {
   "cell_type": "code",
   "execution_count": 15,
   "metadata": {},
   "outputs": [
    {
     "name": "stdout",
     "output_type": "stream",
     "text": [
      "YOUTH\n"
     ]
    },
    {
     "data": {
      "text/html": [
       "<div>\n",
       "<style scoped>\n",
       "    .dataframe tbody tr th:only-of-type {\n",
       "        vertical-align: middle;\n",
       "    }\n",
       "\n",
       "    .dataframe tbody tr th {\n",
       "        vertical-align: top;\n",
       "    }\n",
       "\n",
       "    .dataframe thead th {\n",
       "        text-align: right;\n",
       "    }\n",
       "</style>\n",
       "<table border=\"1\" class=\"dataframe\">\n",
       "  <thead>\n",
       "    <tr style=\"text-align: right;\">\n",
       "      <th></th>\n",
       "      <th>age</th>\n",
       "      <th>income</th>\n",
       "      <th>student</th>\n",
       "      <th>credit_rating</th>\n",
       "      <th>Class:buys Computer</th>\n",
       "    </tr>\n",
       "  </thead>\n",
       "  <tbody>\n",
       "    <tr>\n",
       "      <th>0</th>\n",
       "      <td>Youth</td>\n",
       "      <td>high</td>\n",
       "      <td>no</td>\n",
       "      <td>fair</td>\n",
       "      <td>no</td>\n",
       "    </tr>\n",
       "    <tr>\n",
       "      <th>1</th>\n",
       "      <td>Youth</td>\n",
       "      <td>high</td>\n",
       "      <td>no</td>\n",
       "      <td>excellent</td>\n",
       "      <td>no</td>\n",
       "    </tr>\n",
       "    <tr>\n",
       "      <th>7</th>\n",
       "      <td>Youth</td>\n",
       "      <td>medium</td>\n",
       "      <td>no</td>\n",
       "      <td>fair</td>\n",
       "      <td>no</td>\n",
       "    </tr>\n",
       "    <tr>\n",
       "      <th>8</th>\n",
       "      <td>Youth</td>\n",
       "      <td>low</td>\n",
       "      <td>yes</td>\n",
       "      <td>fair</td>\n",
       "      <td>yes</td>\n",
       "    </tr>\n",
       "    <tr>\n",
       "      <th>10</th>\n",
       "      <td>Youth</td>\n",
       "      <td>medium</td>\n",
       "      <td>yes</td>\n",
       "      <td>excellent</td>\n",
       "      <td>yes</td>\n",
       "    </tr>\n",
       "  </tbody>\n",
       "</table>\n",
       "</div>"
      ],
      "text/plain": [
       "     age   income student credit_rating Class:buys Computer\n",
       "0   Youth    high      no          fair                  no\n",
       "1   Youth    high      no     excellent                  no\n",
       "7   Youth  medium      no          fair                  no\n",
       "8   Youth     low     yes          fair                 yes\n",
       "10  Youth  medium     yes     excellent                 yes"
      ]
     },
     "metadata": {},
     "output_type": "display_data"
    },
    {
     "name": "stdout",
     "output_type": "stream",
     "text": [
      "\n",
      "MIDDLE AGE\n"
     ]
    },
    {
     "data": {
      "text/html": [
       "<div>\n",
       "<style scoped>\n",
       "    .dataframe tbody tr th:only-of-type {\n",
       "        vertical-align: middle;\n",
       "    }\n",
       "\n",
       "    .dataframe tbody tr th {\n",
       "        vertical-align: top;\n",
       "    }\n",
       "\n",
       "    .dataframe thead th {\n",
       "        text-align: right;\n",
       "    }\n",
       "</style>\n",
       "<table border=\"1\" class=\"dataframe\">\n",
       "  <thead>\n",
       "    <tr style=\"text-align: right;\">\n",
       "      <th></th>\n",
       "      <th>age</th>\n",
       "      <th>income</th>\n",
       "      <th>student</th>\n",
       "      <th>credit_rating</th>\n",
       "      <th>Class:buys Computer</th>\n",
       "    </tr>\n",
       "  </thead>\n",
       "  <tbody>\n",
       "    <tr>\n",
       "      <th>2</th>\n",
       "      <td>middle_aged</td>\n",
       "      <td>high</td>\n",
       "      <td>no</td>\n",
       "      <td>fair</td>\n",
       "      <td>yes</td>\n",
       "    </tr>\n",
       "    <tr>\n",
       "      <th>6</th>\n",
       "      <td>middle_aged</td>\n",
       "      <td>low</td>\n",
       "      <td>yes</td>\n",
       "      <td>excellent</td>\n",
       "      <td>yes</td>\n",
       "    </tr>\n",
       "    <tr>\n",
       "      <th>11</th>\n",
       "      <td>middle_aged</td>\n",
       "      <td>medium</td>\n",
       "      <td>no</td>\n",
       "      <td>excellent</td>\n",
       "      <td>yes</td>\n",
       "    </tr>\n",
       "    <tr>\n",
       "      <th>12</th>\n",
       "      <td>middle_aged</td>\n",
       "      <td>high</td>\n",
       "      <td>yes</td>\n",
       "      <td>fair</td>\n",
       "      <td>yes</td>\n",
       "    </tr>\n",
       "  </tbody>\n",
       "</table>\n",
       "</div>"
      ],
      "text/plain": [
       "           age   income student credit_rating Class:buys Computer\n",
       "2   middle_aged    high      no          fair                 yes\n",
       "6   middle_aged     low     yes     excellent                 yes\n",
       "11  middle_aged  medium      no     excellent                 yes\n",
       "12  middle_aged    high     yes          fair                 yes"
      ]
     },
     "metadata": {},
     "output_type": "display_data"
    },
    {
     "name": "stdout",
     "output_type": "stream",
     "text": [
      "\n",
      "SENIOR\n"
     ]
    },
    {
     "data": {
      "text/html": [
       "<div>\n",
       "<style scoped>\n",
       "    .dataframe tbody tr th:only-of-type {\n",
       "        vertical-align: middle;\n",
       "    }\n",
       "\n",
       "    .dataframe tbody tr th {\n",
       "        vertical-align: top;\n",
       "    }\n",
       "\n",
       "    .dataframe thead th {\n",
       "        text-align: right;\n",
       "    }\n",
       "</style>\n",
       "<table border=\"1\" class=\"dataframe\">\n",
       "  <thead>\n",
       "    <tr style=\"text-align: right;\">\n",
       "      <th></th>\n",
       "      <th>age</th>\n",
       "      <th>income</th>\n",
       "      <th>student</th>\n",
       "      <th>credit_rating</th>\n",
       "      <th>Class:buys Computer</th>\n",
       "    </tr>\n",
       "  </thead>\n",
       "  <tbody>\n",
       "    <tr>\n",
       "      <th>3</th>\n",
       "      <td>senior</td>\n",
       "      <td>medium</td>\n",
       "      <td>no</td>\n",
       "      <td>fair</td>\n",
       "      <td>yes</td>\n",
       "    </tr>\n",
       "    <tr>\n",
       "      <th>4</th>\n",
       "      <td>senior</td>\n",
       "      <td>low</td>\n",
       "      <td>yes</td>\n",
       "      <td>fair</td>\n",
       "      <td>yes</td>\n",
       "    </tr>\n",
       "    <tr>\n",
       "      <th>5</th>\n",
       "      <td>senior</td>\n",
       "      <td>low</td>\n",
       "      <td>yes</td>\n",
       "      <td>excellent</td>\n",
       "      <td>no</td>\n",
       "    </tr>\n",
       "    <tr>\n",
       "      <th>9</th>\n",
       "      <td>senior</td>\n",
       "      <td>medium</td>\n",
       "      <td>yes</td>\n",
       "      <td>fair</td>\n",
       "      <td>yes</td>\n",
       "    </tr>\n",
       "    <tr>\n",
       "      <th>13</th>\n",
       "      <td>senior</td>\n",
       "      <td>medium</td>\n",
       "      <td>no</td>\n",
       "      <td>excellent</td>\n",
       "      <td>no</td>\n",
       "    </tr>\n",
       "  </tbody>\n",
       "</table>\n",
       "</div>"
      ],
      "text/plain": [
       "      age   income student credit_rating Class:buys Computer\n",
       "3   senior  medium      no          fair                 yes\n",
       "4   senior     low     yes          fair                 yes\n",
       "5   senior     low     yes     excellent                  no\n",
       "9   senior  medium     yes          fair                 yes\n",
       "13  senior  medium      no     excellent                  no"
      ]
     },
     "metadata": {},
     "output_type": "display_data"
    }
   ],
   "source": [
    "df4= df[df[\"age \"]==\"Youth\"]\n",
    "df5=df[df[\"age \"]==\"middle_aged\"]\n",
    "df6=df[df[\"age \"]==\"senior\"]\n",
    "\n",
    "print(\"YOUTH\")\n",
    "display(df4.loc[:,'age ' : 'Class:buys Computer'])\n",
    "\n",
    "print(\"\")\n",
    "\n",
    "print(\"MIDDLE AGE\")\n",
    "display(df5.loc[:,'age ' : 'Class:buys Computer'])\n",
    "print(\"\")\n",
    "\n",
    "print(\"SENIOR\")\n",
    "display(df6.loc[:,'age ' : 'Class:buys Computer'])"
   ]
  },
  {
   "cell_type": "markdown",
   "metadata": {},
   "source": [
    "# Visualizing Probabilities using BAR CHART"
   ]
  },
  {
   "cell_type": "code",
   "execution_count": 16,
   "metadata": {},
   "outputs": [
    {
     "data": {
      "text/plain": [
       "<matplotlib.axes._subplots.AxesSubplot at 0x186d1a15128>"
      ]
     },
     "execution_count": 16,
     "metadata": {},
     "output_type": "execute_result"
    },
    {
     "data": {
      "image/png": "[encoded data removed]",
      "text/plain": [
       "<Figure size 432x288 with 1 Axes>"
      ]
     },
     "metadata": {
      "needs_background": "light"
     },
     "output_type": "display_data"
    }
   ],
   "source": [
    "# plotting probabilities\n",
    "\n",
    "import matplotlib.pyplot as plt\n",
    "%matplotlib inline\n",
    "\n",
    "\n",
    "sum_y = sum((df[\"Class:buys Computer\"]== \"yes\") & (df['age ']==\"Youth\")) \n",
    "p_y = sum_y/r\n",
    "sum_y = sum((df[\"Class:buys Computer\"]== \"yes\") & (df['age ']==\"middle_aged\"))\n",
    "p_m = sum_y/r\n",
    "sum_y = sum((df[\"Class:buys Computer\"]== \"yes\") & (df['age ']==\"senior\"))\n",
    "p_s = sum_y/r\n",
    "data= {\"Youth\": p_y, \"Middle Age\": p_m, \"Senior\": p_s}\n",
    "\n",
    "pr = pd.DataFrame({'AGE':['Y', 'M', 'S'], 'Probability':[p_y, p_m, p_s]})\n",
    "\n",
    "pr.plot.bar(x=\"AGE\", y=\"Probability\", title = \"Probability of buying computer as per age\",color= \"RED\",\n",
    "\n",
    "           yticks=[0,0.14,0.21,0.28])"
   ]
  },
  {
   "cell_type": "markdown",
   "metadata": {},
   "source": [
    "# Scikit-learn "
   ]
  },
  {
   "cell_type": "markdown",
   "metadata": {},
   "source": [
    "ENCODING CATEGORICAL DATA"
   ]
  },
  {
   "cell_type": "code",
   "execution_count": 17,
   "metadata": {},
   "outputs": [],
   "source": [
    "\n",
    "cat_df = df.drop(\"RID\", axis=1)\n",
    "\n",
    "en1= {\"Youth\":0, \"middle_aged\":1, \"senior\":2}\n",
    "en2= {\"low\":0, \"medium\":1, \"high\":2}\n",
    "en3= {\"no\":0, \"yes\":1}\n",
    "en4= {\"fair\":0, 'excellent':1}\n",
    "en5= {\"no\":0, \"yes\":1}\n",
    "\n",
    "cat_df[\"age \"]                = cat_df[\"age \"].map(en1)\n",
    "cat_df[\"income\"]              = cat_df[\"income\"].map(en2)\n",
    "cat_df[\"student\"]             = cat_df[\"student\"].map(en3)\n",
    "cat_df[\"credit_rating\"]       = cat_df[\"credit_rating\"].map(en4)\n",
    "\n",
    "  "
   ]
  },
  {
   "cell_type": "code",
   "execution_count": 18,
   "metadata": {},
   "outputs": [
    {
     "data": {
      "text/html": [
       "<div>\n",
       "<style scoped>\n",
       "    .dataframe tbody tr th:only-of-type {\n",
       "        vertical-align: middle;\n",
       "    }\n",
       "\n",
       "    .dataframe tbody tr th {\n",
       "        vertical-align: top;\n",
       "    }\n",
       "\n",
       "    .dataframe thead th {\n",
       "        text-align: right;\n",
       "    }\n",
       "</style>\n",
       "<table border=\"1\" class=\"dataframe\">\n",
       "  <thead>\n",
       "    <tr style=\"text-align: right;\">\n",
       "      <th></th>\n",
       "      <th>age</th>\n",
       "      <th>income</th>\n",
       "      <th>student</th>\n",
       "      <th>credit_rating</th>\n",
       "      <th>Class:buys Computer</th>\n",
       "    </tr>\n",
       "  </thead>\n",
       "  <tbody>\n",
       "    <tr>\n",
       "      <th>0</th>\n",
       "      <td>0</td>\n",
       "      <td>2</td>\n",
       "      <td>0</td>\n",
       "      <td>0</td>\n",
       "      <td>no</td>\n",
       "    </tr>\n",
       "    <tr>\n",
       "      <th>1</th>\n",
       "      <td>0</td>\n",
       "      <td>2</td>\n",
       "      <td>0</td>\n",
       "      <td>1</td>\n",
       "      <td>no</td>\n",
       "    </tr>\n",
       "    <tr>\n",
       "      <th>2</th>\n",
       "      <td>1</td>\n",
       "      <td>2</td>\n",
       "      <td>0</td>\n",
       "      <td>0</td>\n",
       "      <td>yes</td>\n",
       "    </tr>\n",
       "    <tr>\n",
       "      <th>3</th>\n",
       "      <td>2</td>\n",
       "      <td>1</td>\n",
       "      <td>0</td>\n",
       "      <td>0</td>\n",
       "      <td>yes</td>\n",
       "    </tr>\n",
       "    <tr>\n",
       "      <th>4</th>\n",
       "      <td>2</td>\n",
       "      <td>0</td>\n",
       "      <td>1</td>\n",
       "      <td>0</td>\n",
       "      <td>yes</td>\n",
       "    </tr>\n",
       "  </tbody>\n",
       "</table>\n",
       "</div>"
      ],
      "text/plain": [
       "   age   income  student  credit_rating Class:buys Computer\n",
       "0     0       2        0              0                  no\n",
       "1     0       2        0              1                  no\n",
       "2     1       2        0              0                 yes\n",
       "3     2       1        0              0                 yes\n",
       "4     2       0        1              0                 yes"
      ]
     },
     "execution_count": 18,
     "metadata": {},
     "output_type": "execute_result"
    }
   ],
   "source": [
    "cat_df.head()"
   ]
  },
  {
   "cell_type": "code",
   "execution_count": null,
   "metadata": {},
   "outputs": [],
   "source": []
  },
  {
   "cell_type": "code",
   "execution_count": 19,
   "metadata": {},
   "outputs": [],
   "source": [
    "#split - train and test\n",
    "from sklearn.model_selection import train_test_split"
   ]
  },
  {
   "cell_type": "code",
   "execution_count": 20,
   "metadata": {},
   "outputs": [],
   "source": [
    "X = cat_df.drop('Class:buys Computer', axis=1)\n",
    "y = cat_df['Class:buys Computer']\n",
    "X_train, X_test, y_train, y_test = train_test_split(X, y, test_size=0.30)"
   ]
  },
  {
   "cell_type": "code",
   "execution_count": 26,
   "metadata": {},
   "outputs": [
    {
     "data": {
      "text/html": [
       "<div>\n",
       "<style scoped>\n",
       "    .dataframe tbody tr th:only-of-type {\n",
       "        vertical-align: middle;\n",
       "    }\n",
       "\n",
       "    .dataframe tbody tr th {\n",
       "        vertical-align: top;\n",
       "    }\n",
       "\n",
       "    .dataframe thead th {\n",
       "        text-align: right;\n",
       "    }\n",
       "</style>\n",
       "<table border=\"1\" class=\"dataframe\">\n",
       "  <thead>\n",
       "    <tr style=\"text-align: right;\">\n",
       "      <th></th>\n",
       "      <th>age</th>\n",
       "      <th>income</th>\n",
       "      <th>student</th>\n",
       "      <th>credit_rating</th>\n",
       "    </tr>\n",
       "  </thead>\n",
       "  <tbody>\n",
       "    <tr>\n",
       "      <th>12</th>\n",
       "      <td>1</td>\n",
       "      <td>2</td>\n",
       "      <td>1</td>\n",
       "      <td>0</td>\n",
       "    </tr>\n",
       "    <tr>\n",
       "      <th>3</th>\n",
       "      <td>2</td>\n",
       "      <td>1</td>\n",
       "      <td>0</td>\n",
       "      <td>0</td>\n",
       "    </tr>\n",
       "    <tr>\n",
       "      <th>5</th>\n",
       "      <td>2</td>\n",
       "      <td>0</td>\n",
       "      <td>1</td>\n",
       "      <td>1</td>\n",
       "    </tr>\n",
       "    <tr>\n",
       "      <th>10</th>\n",
       "      <td>0</td>\n",
       "      <td>1</td>\n",
       "      <td>1</td>\n",
       "      <td>1</td>\n",
       "    </tr>\n",
       "    <tr>\n",
       "      <th>13</th>\n",
       "      <td>2</td>\n",
       "      <td>1</td>\n",
       "      <td>0</td>\n",
       "      <td>1</td>\n",
       "    </tr>\n",
       "  </tbody>\n",
       "</table>\n",
       "</div>"
      ],
      "text/plain": [
       "    age   income  student  credit_rating\n",
       "12     1       2        1              0\n",
       "3      2       1        0              0\n",
       "5      2       0        1              1\n",
       "10     0       1        1              1\n",
       "13     2       1        0              1"
      ]
     },
     "execution_count": 26,
     "metadata": {},
     "output_type": "execute_result"
    }
   ],
   "source": [
    "X_test"
   ]
  },
  {
   "cell_type": "code",
   "execution_count": 21,
   "metadata": {},
   "outputs": [
    {
     "data": {
      "text/plain": [
       "DecisionTreeClassifier(class_weight=None, criterion='gini', max_depth=None,\n",
       "                       max_features=None, max_leaf_nodes=None,\n",
       "                       min_impurity_decrease=0.0, min_impurity_split=None,\n",
       "                       min_samples_leaf=1, min_samples_split=2,\n",
       "                       min_weight_fraction_leaf=0.0, presort=False,\n",
       "                       random_state=None, splitter='best')"
      ]
     },
     "execution_count": 21,
     "metadata": {},
     "output_type": "execute_result"
    }
   ],
   "source": [
    "from sklearn.tree import DecisionTreeClassifier\n",
    "dtree = DecisionTreeClassifier()\n",
    "dtree.fit(X_train,y_train)"
   ]
  },
  {
   "cell_type": "markdown",
   "metadata": {},
   "source": [
    "CHECKING RESULTS"
   ]
  },
  {
   "cell_type": "code",
   "execution_count": 25,
   "metadata": {},
   "outputs": [
    {
     "name": "stdout",
     "output_type": "stream",
     "text": [
      "Predicted Values:- ['yes' 'yes' 'yes' 'yes' 'yes']\n",
      "-------------------------------------------------------- \n",
      "Actual Values:-\n",
      "12    yes\n",
      "3     yes\n",
      "5      no\n",
      "10    yes\n",
      "13     no\n",
      "Name: Class:buys Computer, dtype: object\n",
      "-------------------------------------------------------- \n",
      "Number of mislabeled values out of a total 5 values:- 2\n",
      "-------------------------------------------------------- \n",
      "Accuracy: 0.600 --> 60.0%\n"
     ]
    }
   ],
   "source": [
    "predictions = dtree.predict(X_test)\n",
    "print(\"Predicted Values:-\", end=' ')\n",
    "print(predictions)\n",
    "print(\"-------------------------------------------------------- \")\n",
    "\n",
    "print(\"Actual Values:-\")\n",
    "print(y_test, end=\"\")\n",
    "print(\"\")\n",
    "print(\"-------------------------------------------------------- \")\n",
    "\n",
    "print(\"Number of mislabeled values out of a total %d values:- %d\" % (X_test.shape[0], (y_test != predictions).sum()))\n",
    "print(\"-------------------------------------------------------- \")\n",
    "\n",
    "import sklearn.metrics\n",
    "print(\"Accuracy:\", end=\" \")\n",
    "a=sklearn.metrics.accuracy_score(y_test, predictions)\n",
    "print(\"%.3f\"%a, end=\" --> \")\n",
    "print(a*100,end='')\n",
    "print('%')"
   ]
  },
  {
   "cell_type": "code",
   "execution_count": null,
   "metadata": {},
   "outputs": [],
   "source": []
  },
  {
   "cell_type": "markdown",
   "metadata": {},
   "source": [
    "MAKING PREDICTIONS"
   ]
  },
  {
   "cell_type": "code",
   "execution_count": 27,
   "metadata": {},
   "outputs": [
    {
     "name": "stdout",
     "output_type": "stream",
     "text": [
      "['yes'] ['yes']\n"
     ]
    }
   ],
   "source": [
    "predict1 = dtree.predict([[2,0,2,1]])\n",
    "predict2 = dtree.predict([[2,2,1,1]]) \n",
    "print(predict1, predict2)"
   ]
  },
  {
   "cell_type": "markdown",
   "metadata": {},
   "source": [
    "# Visualizing Tree"
   ]
  },
  {
   "cell_type": "code",
   "execution_count": 24,
   "metadata": {},
   "outputs": [
    {
     "name": "stderr",
     "output_type": "stream",
     "text": [
      "C:\\Users\\Divyansh\\Anaconda3\\lib\\site-packages\\sklearn\\externals\\six.py:31: DeprecationWarning: The module is deprecated in version 0.21 and will be removed in version 0.23 since we've dropped support for Python 2.7. Please rely on the official version of six (https://pypi.org/project/six/).\n",
      "  \"(https://pypi.org/project/six/).\", DeprecationWarning)\n"
     ]
    },
    {
     "data": {
      "image/png": "[encoded data removed]",
      "text/plain": [
       "<IPython.core.display.Image object>"
      ]
     },
     "execution_count": 24,
     "metadata": {},
     "output_type": "execute_result"
    }
   ],
   "source": [
    "\n",
    "from IPython.display import Image  \n",
    "from sklearn.externals.six import StringIO  \n",
    "from sklearn.tree import export_graphviz\n",
    "import pydot \n",
    "features = ['age ', 'income', 'student', 'credit_rating']\n",
    "dot_data = StringIO()  \n",
    "export_graphviz(dtree, out_file=dot_data, feature_names = features, filled=True, rounded=True)\n",
    "\n",
    "graph = pydot.graph_from_dot_data(dot_data.getvalue())  \n",
    "Image(graph[0].create_png())  \n"
   ]
  }
 ],
 "metadata": {
  "kernelspec": {
   "display_name": "Python 3",
   "language": "python",
   "name": "python3"
  },
  "language_info": {
   "codemirror_mode": {
    "name": "ipython",
    "version": 3
   },
   "file_extension": ".py",
   "mimetype": "text/x-python",
   "name": "python",
   "nbconvert_exporter": "python",
   "pygments_lexer": "ipython3",
   "version": "3.7.3"
  }
 },
 "nbformat": 4,
 "nbformat_minor": 2
}
