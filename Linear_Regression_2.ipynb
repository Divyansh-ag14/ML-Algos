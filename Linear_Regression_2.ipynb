{
 "cells": [
  {
   "cell_type": "code",
   "execution_count": 8,
   "metadata": {},
   "outputs": [],
   "source": [
    "import numpy as np\n",
    "import pandas as pd\n",
    "import matplotlib.pyplot as plt\n",
    "%notebook inline"
   ]
  },
  {
   "cell_type": "code",
   "execution_count": 9,
   "metadata": {},
   "outputs": [],
   "source": [
    "df = pd.read_csv(\"salary_data.csv\")"
   ]
  },
  {
   "cell_type": "code",
   "execution_count": 10,
   "metadata": {},
   "outputs": [
    {
     "data": {
      "text/html": [
       "<div>\n",
       "<style scoped>\n",
       "    .dataframe tbody tr th:only-of-type {\n",
       "        vertical-align: middle;\n",
       "    }\n",
       "\n",
       "    .dataframe tbody tr th {\n",
       "        vertical-align: top;\n",
       "    }\n",
       "\n",
       "    .dataframe thead th {\n",
       "        text-align: right;\n",
       "    }\n",
       "</style>\n",
       "<table border=\"1\" class=\"dataframe\">\n",
       "  <thead>\n",
       "    <tr style=\"text-align: right;\">\n",
       "      <th></th>\n",
       "      <th>YearsExperience</th>\n",
       "      <th>Salary</th>\n",
       "    </tr>\n",
       "  </thead>\n",
       "  <tbody>\n",
       "    <tr>\n",
       "      <th>0</th>\n",
       "      <td>1.1</td>\n",
       "      <td>39343</td>\n",
       "    </tr>\n",
       "    <tr>\n",
       "      <th>1</th>\n",
       "      <td>1.3</td>\n",
       "      <td>46205</td>\n",
       "    </tr>\n",
       "    <tr>\n",
       "      <th>2</th>\n",
       "      <td>1.5</td>\n",
       "      <td>37731</td>\n",
       "    </tr>\n",
       "    <tr>\n",
       "      <th>3</th>\n",
       "      <td>2.0</td>\n",
       "      <td>43525</td>\n",
       "    </tr>\n",
       "    <tr>\n",
       "      <th>4</th>\n",
       "      <td>2.2</td>\n",
       "      <td>39891</td>\n",
       "    </tr>\n",
       "  </tbody>\n",
       "</table>\n",
       "</div>"
      ],
      "text/plain": [
       "   YearsExperience  Salary\n",
       "0              1.1   39343\n",
       "1              1.3   46205\n",
       "2              1.5   37731\n",
       "3              2.0   43525\n",
       "4              2.2   39891"
      ]
     },
     "execution_count": 10,
     "metadata": {},
     "output_type": "execute_result"
    }
   ],
   "source": [
    "df.head()"
   ]
  },
  {
   "cell_type": "code",
   "execution_count": 11,
   "metadata": {},
   "outputs": [
    {
     "name": "stdout",
     "output_type": "stream",
     "text": [
      "Checking for null values in all columns...\n",
      "\n",
      "No column contains null values\n"
     ]
    }
   ],
   "source": [
    "#checking for null values\n",
    "\n",
    "print(\"Checking for null values in all columns...\\n\")\n",
    "count =0\n",
    "for i in df.columns:\n",
    "    if(i == np.where(pd.isnull(i))):\n",
    "        count+=1\n",
    "if (count>0):\n",
    "    print(str(count) + \"columns contain null values\")\n",
    "else:\n",
    "    print(\"No column contains null values\")"
   ]
  },
  {
   "cell_type": "code",
   "execution_count": 13,
   "metadata": {},
   "outputs": [],
   "source": [
    "def calcMean(X):\n",
    "    \n",
    "    sum = 0\n",
    "    count = 0\n",
    "    \n",
    "    for i in X:\n",
    "        sum += i\n",
    "        count += 1\n",
    "    \n",
    "    mean = sum/count\n",
    "    \n",
    "    return mean"
   ]
  },
  {
   "cell_type": "code",
   "execution_count": 3,
   "metadata": {},
   "outputs": [],
   "source": [
    "def train_test_split(X,Y):\n",
    "\n",
    "    train_size = int(0.7 * len(df)) # define train size\n",
    "\n",
    "    X_train, X_test = X[:train_size], X[train_size:]\n",
    "    y_train, y_test = Y[:train_size], Y[train_size:]\n",
    "    \n",
    "    return(X_train, X_test, y_train, y_test)\n",
    "    "
   ]
  },
  {
   "cell_type": "code",
   "execution_count": 22,
   "metadata": {},
   "outputs": [],
   "source": [
    "def trainModel(X_train, y_train, mean_X, mean_Y):\n",
    "    \n",
    "    n = len(X_train) \n",
    "    numerator = 0 \n",
    "    denominator = 0\n",
    "    \n",
    "    for i in range(n): # for loop to traverse through array and get the values of num. and den.\n",
    "        \n",
    "        numerator += (X_train[i] - mean_X) * (y_train[i] - mean_Y)\n",
    "        denominator += (X_train[i] - mean_X)**2\n",
    "\n",
    "    m = numerator/denominator # assigning value to slope (m)\n",
    "    c = mean_Y - (m * mean_X) # y= mx+c --> c = y-mx (c is the intercept)\n",
    "    \n",
    "    y = (m * X_train) + c # for every data point in array X_train, getting a subsequent y value \n",
    "    \n",
    "    error = (abs(y - y_train)/y_train) * 100\n",
    "    train_accuracy= 100 - sum(error)/ len(error)\n",
    "    \n",
    "    return(train_accuracy, m, c)"
   ]
  },
  {
   "cell_type": "code",
   "execution_count": 23,
   "metadata": {},
   "outputs": [],
   "source": [
    "def testModel(X_test,y_test, m,c):\n",
    "    \n",
    "    y = (m * X_test) + c\n",
    "    \n",
    "    error = (abs(y - y_test)/y_test) * 100\n",
    "    test_accuracy= 100 - sum(error)/ len(error)\n",
    "    \n",
    "    return(test_accuracy)"
   ]
  },
  {
   "cell_type": "code",
   "execution_count": 56,
   "metadata": {},
   "outputs": [],
   "source": [
    "def makePred(m,c):\n",
    "    \n",
    "    x = float(input(\"\\nEnter the (years of experience): \"))\n",
    "    \n",
    "    y = (m * x) + c\n",
    "    \n",
    "    print(\"------------------------------\")\n",
    "    print(\"Predicted Salary: \", np.round(y))\n",
    "    "
   ]
  },
  {
   "cell_type": "code",
   "execution_count": 52,
   "metadata": {},
   "outputs": [],
   "source": [
    "def linearRegression():\n",
    "    \n",
    "    print(\"Running a Linear Regression on the dataset..\\n\")\n",
    "    \n",
    "    X = df[\"YearsExperience\"].values # array containing years of exp.\n",
    "    Y = df[\"Salary\"].values # array containing sal\n",
    "    \n",
    "    \n",
    "    X_train, X_test, y_train, y_test = train_test_split(X,Y)\n",
    "    \n",
    "    mean_X = calcMean(X_train) # using custom calcMean() function to calculate the mean for both arrays\n",
    "    mean_Y = calcMean(y_train)\n",
    "    \n",
    "    train_accuracy, m, c = trainModel(X_train,y_train, mean_X, mean_Y)\n",
    "    test_accuracy = testModel(X_test, y_test, m,c)\n",
    "    \n",
    "    print(\"Training the model..\")\n",
    "    print(\"------------------------------\")\n",
    "    print(\"Training Accuracy: \" + str(np.round(train_accuracy, 4)) + \" %\")\n",
    "    print(\"==============================\")\n",
    "    print(\"Testing the model..\")\n",
    "    print(\"------------------------------\")\n",
    "    print(\"Testing Accuracy: \"+ str(np.round(test_accuracy, 4)) + \" %\")\n",
    "    print(\"==============================\")\n",
    "    \n",
    "    ch = input(\"\\nWant to make a prediction (Y/N)?: \")\n",
    "    \n",
    "    if ch == \"Y\":\n",
    "        makePred(m,c)\n",
    "        ch = input(\"Do you want to generate a plot (Y/N)?: \")\n",
    "        if ch == \"Y\":\n",
    "            regPlot()\n",
    "    else:\n",
    "        print(\"Okay!\")"
   ]
  },
  {
   "cell_type": "code",
   "execution_count": 59,
   "metadata": {},
   "outputs": [
    {
     "name": "stdout",
     "output_type": "stream",
     "text": [
      "Running a Linear Regression on the dataset..\n",
      "\n",
      "Training the model..\n",
      "------------------------------\n",
      "Training Accuracy: 91.4202 %\n",
      "==============================\n",
      "Testing the model..\n",
      "------------------------------\n",
      "Testing Accuracy: 96.5703 %\n",
      "==============================\n",
      "\n",
      "Want to make a prediction (Y/N)?: Y\n",
      "\n",
      "Enter the (years of experience): 5\n",
      "------------------------------\n",
      "Predicted Salary:  72549.0\n"
     ]
    }
   ],
   "source": [
    "linearRegression()"
   ]
  },
  {
   "cell_type": "code",
   "execution_count": null,
   "metadata": {},
   "outputs": [],
   "source": []
  }
 ],
 "metadata": {
  "kernelspec": {
   "display_name": "Python 3",
   "language": "python",
   "name": "python3"
  },
  "language_info": {
   "codemirror_mode": {
    "name": "ipython",
    "version": 3
   },
   "file_extension": ".py",
   "mimetype": "text/x-python",
   "name": "python",
   "nbconvert_exporter": "python",
   "pygments_lexer": "ipython3",
   "version": "3.7.3"
  }
 },
 "nbformat": 4,
 "nbformat_minor": 2
}
