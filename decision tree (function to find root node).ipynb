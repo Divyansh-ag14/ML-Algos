{
 "cells": [
  {
   "cell_type": "code",
   "execution_count": 1,
   "metadata": {},
   "outputs": [],
   "source": [
    "import numpy as np\n",
    "import pandas as pd\n",
    "import math"
   ]
  },
  {
   "cell_type": "code",
   "execution_count": 2,
   "metadata": {},
   "outputs": [],
   "source": [
    "df=pd.read_csv(\"income.csv\")"
   ]
  },
  {
   "cell_type": "code",
   "execution_count": 3,
   "metadata": {},
   "outputs": [
    {
     "data": {
      "text/html": [
       "<div>\n",
       "<style scoped>\n",
       "    .dataframe tbody tr th:only-of-type {\n",
       "        vertical-align: middle;\n",
       "    }\n",
       "\n",
       "    .dataframe tbody tr th {\n",
       "        vertical-align: top;\n",
       "    }\n",
       "\n",
       "    .dataframe thead th {\n",
       "        text-align: right;\n",
       "    }\n",
       "</style>\n",
       "<table border=\"1\" class=\"dataframe\">\n",
       "  <thead>\n",
       "    <tr style=\"text-align: right;\">\n",
       "      <th></th>\n",
       "      <th>RID</th>\n",
       "      <th>age</th>\n",
       "      <th>income</th>\n",
       "      <th>student</th>\n",
       "      <th>credit_rating</th>\n",
       "      <th>Class:buys Computer</th>\n",
       "    </tr>\n",
       "  </thead>\n",
       "  <tbody>\n",
       "    <tr>\n",
       "      <th>0</th>\n",
       "      <td>1</td>\n",
       "      <td>Youth</td>\n",
       "      <td>high</td>\n",
       "      <td>no</td>\n",
       "      <td>fair</td>\n",
       "      <td>no</td>\n",
       "    </tr>\n",
       "    <tr>\n",
       "      <th>1</th>\n",
       "      <td>2</td>\n",
       "      <td>Youth</td>\n",
       "      <td>high</td>\n",
       "      <td>no</td>\n",
       "      <td>excellent</td>\n",
       "      <td>no</td>\n",
       "    </tr>\n",
       "    <tr>\n",
       "      <th>2</th>\n",
       "      <td>3</td>\n",
       "      <td>middle_aged</td>\n",
       "      <td>high</td>\n",
       "      <td>no</td>\n",
       "      <td>fair</td>\n",
       "      <td>yes</td>\n",
       "    </tr>\n",
       "    <tr>\n",
       "      <th>3</th>\n",
       "      <td>4</td>\n",
       "      <td>senior</td>\n",
       "      <td>medium</td>\n",
       "      <td>no</td>\n",
       "      <td>fair</td>\n",
       "      <td>yes</td>\n",
       "    </tr>\n",
       "    <tr>\n",
       "      <th>4</th>\n",
       "      <td>5</td>\n",
       "      <td>senior</td>\n",
       "      <td>low</td>\n",
       "      <td>yes</td>\n",
       "      <td>fair</td>\n",
       "      <td>yes</td>\n",
       "    </tr>\n",
       "  </tbody>\n",
       "</table>\n",
       "</div>"
      ],
      "text/plain": [
       "   RID         age   income student credit_rating Class:buys Computer\n",
       "0    1        Youth    high      no          fair                  no\n",
       "1    2        Youth    high      no     excellent                  no\n",
       "2    3  middle_aged    high      no          fair                 yes\n",
       "3    4       senior  medium      no          fair                 yes\n",
       "4    5       senior     low     yes          fair                 yes"
      ]
     },
     "execution_count": 3,
     "metadata": {},
     "output_type": "execute_result"
    }
   ],
   "source": [
    "df.head()"
   ]
  },
  {
   "cell_type": "code",
   "execution_count": 4,
   "metadata": {},
   "outputs": [
    {
     "name": "stdout",
     "output_type": "stream",
     "text": [
      "columns : Index(['RID', 'age ', 'income', 'student', 'credit_rating',\n",
      "       'Class:buys Computer'],\n",
      "      dtype='object')\n",
      "\n",
      "shape : (14, 6)\n"
     ]
    }
   ],
   "source": [
    "print(\"columns :\",df.columns)\n",
    "print(\"\")\n",
    "print(\"shape :\",df.shape)\n",
    "filtered_columns = df.columns[1:5]"
   ]
  },
  {
   "cell_type": "code",
   "execution_count": 5,
   "metadata": {},
   "outputs": [
    {
     "name": "stdout",
     "output_type": "stream",
     "text": [
      "info: 0.9402859586706309\n"
     ]
    }
   ],
   "source": [
    "sum_y= sum(df[\"Class:buys Computer\"]== \"yes\")\n",
    "sum_n= sum(df[\"Class:buys Computer\"]== \"no\")\n",
    "r=14\n",
    "info = (-sum_y/r * math.log(sum_y/r,2) -sum_n/r * math.log(sum_n/r,2))\n",
    "print(\"info:\",info)"
   ]
  },
  {
   "cell_type": "code",
   "execution_count": 8,
   "metadata": {},
   "outputs": [],
   "source": [
    "def dtreeRootnode():\n",
    "    r = df.shape[0]\n",
    "    print(df.columns)\n",
    "    target = input(\"Enter target class from the following [choose (Class:buys Computer)]: \")\n",
    "    \n",
    "    sum_y= sum(df[target]== \"yes\")\n",
    "    sum_n= sum(df[target]== \"no\")\n",
    "    info = (-sum_y/r * math.log(sum_y/r,2) -sum_n/r * math.log(sum_n/r,2))\n",
    "    \n",
    "    gain =[]\n",
    "    for i in filtered_columns:\n",
    "        info_i = 0\n",
    "        for j in df[i].unique():\n",
    "            sum_y = sum((df[target]== \"yes\") & (df[i]==j))\n",
    "            sum_n = sum((df[target]== \"no\") & (df[i]==j))\n",
    "            s_yn = sum_y + sum_n\n",
    "        \n",
    "            if(sum_y ==0):\n",
    "                info_i_j = s_yn/r * (sum_n/s_yn * math.log(sum_n/s_yn,2))\n",
    "            elif(sum_n ==0):\n",
    "                info_i_j = s_yn/r * ( -sum_y/s_yn* math.log(sum_y/s_yn,2))\n",
    "            else:\n",
    "                info_i_j = s_yn/r * ((-sum_y/s_yn* math.log(sum_y/s_yn,2)) - sum_n/s_yn * math.log(sum_n/s_yn,2))\n",
    "        \n",
    "            info_i = info_i + info_i_j\n",
    "        gain_i = info - info_i\n",
    "        gain.append(gain_i)\n",
    "        \n",
    "    data = {\"gain\" : gain, \"attribute\" : filtered_columns}\n",
    "    df2 = pd.DataFrame(data= data, columns = [\"gain\", \"attribute\"])\n",
    "    display(df2)\n",
    "    df3 = df2[df2[\"gain\"] == df2[\"gain\"].max()]\n",
    "    print(\"============================================\")\n",
    "    print(\"ROOT NODE - (MAX GAIN)\")\n",
    "    display(df3)\n",
    "    \n",
    "   \n",
    "        \n",
    "    "
   ]
  },
  {
   "cell_type": "code",
   "execution_count": 9,
   "metadata": {},
   "outputs": [
    {
     "name": "stdout",
     "output_type": "stream",
     "text": [
      "Index(['RID', 'age ', 'income', 'student', 'credit_rating',\n",
      "       'Class:buys Computer'],\n",
      "      dtype='object')\n",
      "Enter target class from the following [choose (Class:buys Computer)]: Class:buys Computer\n"
     ]
    },
    {
     "data": {
      "text/html": [
       "<div>\n",
       "<style scoped>\n",
       "    .dataframe tbody tr th:only-of-type {\n",
       "        vertical-align: middle;\n",
       "    }\n",
       "\n",
       "    .dataframe tbody tr th {\n",
       "        vertical-align: top;\n",
       "    }\n",
       "\n",
       "    .dataframe thead th {\n",
       "        text-align: right;\n",
       "    }\n",
       "</style>\n",
       "<table border=\"1\" class=\"dataframe\">\n",
       "  <thead>\n",
       "    <tr style=\"text-align: right;\">\n",
       "      <th></th>\n",
       "      <th>gain</th>\n",
       "      <th>attribute</th>\n",
       "    </tr>\n",
       "  </thead>\n",
       "  <tbody>\n",
       "    <tr>\n",
       "      <th>0</th>\n",
       "      <td>0.246750</td>\n",
       "      <td>age</td>\n",
       "    </tr>\n",
       "    <tr>\n",
       "      <th>1</th>\n",
       "      <td>0.029223</td>\n",
       "      <td>income</td>\n",
       "    </tr>\n",
       "    <tr>\n",
       "      <th>2</th>\n",
       "      <td>0.151836</td>\n",
       "      <td>student</td>\n",
       "    </tr>\n",
       "    <tr>\n",
       "      <th>3</th>\n",
       "      <td>0.048127</td>\n",
       "      <td>credit_rating</td>\n",
       "    </tr>\n",
       "  </tbody>\n",
       "</table>\n",
       "</div>"
      ],
      "text/plain": [
       "       gain      attribute\n",
       "0  0.246750           age \n",
       "1  0.029223         income\n",
       "2  0.151836        student\n",
       "3  0.048127  credit_rating"
      ]
     },
     "metadata": {},
     "output_type": "display_data"
    },
    {
     "name": "stdout",
     "output_type": "stream",
     "text": [
      "============================================\n",
      "ROOT NODE - (MAX GAIN)\n"
     ]
    },
    {
     "data": {
      "text/html": [
       "<div>\n",
       "<style scoped>\n",
       "    .dataframe tbody tr th:only-of-type {\n",
       "        vertical-align: middle;\n",
       "    }\n",
       "\n",
       "    .dataframe tbody tr th {\n",
       "        vertical-align: top;\n",
       "    }\n",
       "\n",
       "    .dataframe thead th {\n",
       "        text-align: right;\n",
       "    }\n",
       "</style>\n",
       "<table border=\"1\" class=\"dataframe\">\n",
       "  <thead>\n",
       "    <tr style=\"text-align: right;\">\n",
       "      <th></th>\n",
       "      <th>gain</th>\n",
       "      <th>attribute</th>\n",
       "    </tr>\n",
       "  </thead>\n",
       "  <tbody>\n",
       "    <tr>\n",
       "      <th>0</th>\n",
       "      <td>0.24675</td>\n",
       "      <td>age</td>\n",
       "    </tr>\n",
       "  </tbody>\n",
       "</table>\n",
       "</div>"
      ],
      "text/plain": [
       "      gain attribute\n",
       "0  0.24675      age "
      ]
     },
     "metadata": {},
     "output_type": "display_data"
    }
   ],
   "source": [
    "dtreeRootnode()"
   ]
  },
  {
   "cell_type": "code",
   "execution_count": null,
   "metadata": {},
   "outputs": [],
   "source": []
  },
  {
   "cell_type": "code",
   "execution_count": null,
   "metadata": {},
   "outputs": [],
   "source": []
  }
 ],
 "metadata": {
  "kernelspec": {
   "display_name": "Python 3",
   "language": "python",
   "name": "python3"
  },
  "language_info": {
   "codemirror_mode": {
    "name": "ipython",
    "version": 3
   },
   "file_extension": ".py",
   "mimetype": "text/x-python",
   "name": "python",
   "nbconvert_exporter": "python",
   "pygments_lexer": "ipython3",
   "version": "3.7.3"
  }
 },
 "nbformat": 4,
 "nbformat_minor": 2
}
